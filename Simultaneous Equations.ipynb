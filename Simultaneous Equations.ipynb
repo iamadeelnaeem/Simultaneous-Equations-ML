{
 "cells": [
  {
   "cell_type": "code",
   "execution_count": 1,
   "id": "ce54bdc3",
   "metadata": {},
   "outputs": [],
   "source": [
    "import numpy as np"
   ]
  },
  {
   "cell_type": "code",
   "execution_count": 2,
   "id": "56f2b550",
   "metadata": {},
   "outputs": [],
   "source": [
    "path = \"C:\\\\Users\\\\adeel\\\\Documents\\\\Teaching\\\\ML\\\\Notebooks\\\\regression_dataset\\\\\" \n",
    "trnData = np.loadtxt(path+\"train.csv\", delimiter = \",\", skiprows = 1)\n",
    "tstData = np.loadtxt(path+\"test.csv\", delimiter = \",\", skiprows = 1)"
   ]
  },
  {
   "cell_type": "code",
   "execution_count": 3,
   "id": "c08cbdf2",
   "metadata": {},
   "outputs": [
    {
     "name": "stdout",
     "output_type": "stream",
     "text": [
      "(699, 2)\n",
      "(300, 2)\n"
     ]
    }
   ],
   "source": [
    "print(np.shape(trnData))\n",
    "print(np.shape(tstData))"
   ]
  },
  {
   "cell_type": "code",
   "execution_count": 4,
   "id": "f41e03b0",
   "metadata": {},
   "outputs": [],
   "source": [
    "trn_X = trnData[:,0]\n",
    "trn_y = trnData[:,1]\n",
    "tst_X = tstData[:,0]\n",
    "tst_y = tstData[:,1]\n"
   ]
  },
  {
   "cell_type": "code",
   "execution_count": 5,
   "id": "c33dc767",
   "metadata": {},
   "outputs": [
    {
     "name": "stdout",
     "output_type": "stream",
     "text": [
      "(699,)\n",
      "(699,)\n",
      "(300,)\n",
      "(300,)\n"
     ]
    }
   ],
   "source": [
    "print(np.shape(trn_X))\n",
    "print(np.shape(trn_y))\n",
    "print(np.shape(tst_X))\n",
    "print(np.shape(tst_y))"
   ]
  },
  {
   "cell_type": "code",
   "execution_count": 6,
   "id": "0c9309ce",
   "metadata": {},
   "outputs": [],
   "source": [
    "A = np.zeros((2,2))\n",
    "X = np.zeros((2))\n",
    "B = np.zeros((2))"
   ]
  },
  {
   "cell_type": "code",
   "execution_count": 7,
   "id": "4e67e609",
   "metadata": {},
   "outputs": [],
   "source": [
    "A[0,0] = float(np.shape(trn_X)[0])\n",
    "A[0,1] = float(np.sum(trn_X))\n",
    "A[1,0] = float(np.sum(trn_X))\n",
    "A[1,1] = float(np.sum(trn_X**2))"
   ]
  },
  {
   "cell_type": "code",
   "execution_count": 8,
   "id": "14c0cc1b",
   "metadata": {},
   "outputs": [
    {
     "name": "stdout",
     "output_type": "stream",
     "text": [
      "[[6.99000e+02 3.49600e+04]\n",
      " [3.49600e+04 2.33368e+06]]\n"
     ]
    }
   ],
   "source": [
    "print(A)"
   ]
  },
  {
   "cell_type": "code",
   "execution_count": 9,
   "id": "32f512dc",
   "metadata": {},
   "outputs": [],
   "source": [
    "B[0] = float(np.sum(trn_y))\n",
    "B[1] = float(np.sum(trn_X * trn_y))"
   ]
  },
  {
   "cell_type": "code",
   "execution_count": 10,
   "id": "409e1f2f",
   "metadata": {},
   "outputs": [
    {
     "name": "stdout",
     "output_type": "stream",
     "text": [
      "[  34907.96855015 2331461.78457846]\n"
     ]
    }
   ],
   "source": [
    "print(B)"
   ]
  },
  {
   "cell_type": "code",
   "execution_count": 11,
   "id": "cbfd8765",
   "metadata": {},
   "outputs": [],
   "source": [
    "A_inv = np.linalg.inv(A)"
   ]
  },
  {
   "cell_type": "code",
   "execution_count": 12,
   "id": "01f5be32",
   "metadata": {},
   "outputs": [
    {
     "name": "stdout",
     "output_type": "stream",
     "text": [
      "[[ 5.70525106e-03 -8.54682634e-05]\n",
      " [-8.54682634e-05  1.70887632e-06]]\n"
     ]
    }
   ],
   "source": [
    "print(A_inv)"
   ]
  },
  {
   "cell_type": "code",
   "execution_count": 13,
   "id": "789eb4b4",
   "metadata": {},
   "outputs": [],
   "source": [
    "X = np.dot(A_inv, B)"
   ]
  },
  {
   "cell_type": "code",
   "execution_count": 14,
   "id": "52b3ffc4",
   "metadata": {},
   "outputs": [
    {
     "name": "stdout",
     "output_type": "stream",
     "text": [
      "[-0.10726546  1.00065638]\n"
     ]
    }
   ],
   "source": [
    "print(X)"
   ]
  },
  {
   "cell_type": "code",
   "execution_count": 15,
   "id": "d72aa298",
   "metadata": {},
   "outputs": [],
   "source": [
    "tst_y_pred = X[0]+X[1]*tst_X\n",
    "trn_y_pred = X[0]+X[1]*trn_X"
   ]
  },
  {
   "cell_type": "code",
   "execution_count": 16,
   "id": "6cab5ae7",
   "metadata": {},
   "outputs": [
    {
     "name": "stdout",
     "output_type": "stream",
     "text": [
      "[76.94327594 20.90651855 21.90717494 19.90586217 35.91636428]\n",
      "[79.77515201 23.17727887 25.60926156 17.85738813 41.84986439]\n"
     ]
    }
   ],
   "source": [
    "print(tst_y_pred[:5])\n",
    "print(tst_y[:5])"
   ]
  },
  {
   "cell_type": "code",
   "execution_count": 17,
   "id": "870c771d",
   "metadata": {},
   "outputs": [
    {
     "name": "stdout",
     "output_type": "stream",
     "text": [
      "[23.9084877  49.92555363 14.90258026 37.91767705 86.94983976]\n",
      "[21.54945196 47.46446305 17.21865634 36.58639803 87.28898389]\n"
     ]
    }
   ],
   "source": [
    "print(trn_y_pred[:5])\n",
    "print(trn_y[:5])"
   ]
  },
  {
   "cell_type": "code",
   "execution_count": null,
   "id": "f113e032",
   "metadata": {},
   "outputs": [],
   "source": []
  }
 ],
 "metadata": {
  "kernelspec": {
   "display_name": "Python 3 (ipykernel)",
   "language": "python",
   "name": "python3"
  },
  "language_info": {
   "codemirror_mode": {
    "name": "ipython",
    "version": 3
   },
   "file_extension": ".py",
   "mimetype": "text/x-python",
   "name": "python",
   "nbconvert_exporter": "python",
   "pygments_lexer": "ipython3",
   "version": "3.10.7"
  }
 },
 "nbformat": 4,
 "nbformat_minor": 5
}
